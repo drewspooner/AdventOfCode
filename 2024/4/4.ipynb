{
 "cells": [
  {
   "cell_type": "code",
   "execution_count": 16,
   "metadata": {},
   "outputs": [],
   "source": [
    "import pandas as pd\n",
    "forwards_token = 'XMAS'\n",
    "backwards_token = 'SAMX'"
   ]
  },
  {
   "cell_type": "code",
   "execution_count": 15,
   "metadata": {},
   "outputs": [],
   "source": [
    "\n",
    "# Function to read characters from a file and create a DataFrame\n",
    "def create_word_search_df(file_path):\n",
    "    with open(file_path, 'r') as file:\n",
    "        lines = [line.strip() for line in file.readlines()]\n",
    "    \n",
    "    # Create a DataFrame from the list of lines\n",
    "    df = pd.DataFrame([list(line) for line in lines])\n",
    "    return df\n",
    "\n",
    "# Function to count occurrences of a word in row-major order\n",
    "def count_row_major(df, word):\n",
    "    count = 0\n",
    "    for index, row in df.iterrows():\n",
    "        row_string = ''.join(row)\n",
    "        count += row_string.count(word)\n",
    "    return count\n",
    "\n",
    "# Function to count occurrences of a word in column-major order\n",
    "def count_column_major(df, word):\n",
    "    count = 0\n",
    "    for col in df.columns:\n",
    "        col_string = ''.join(df[col])\n",
    "        count += col_string.count(word)\n",
    "    return count\n",
    "\n",
    "# Function to count occurrences of a word in a string\n",
    "def count_occurrences(string, word):\n",
    "    count = 0\n",
    "    pos = 0\n",
    "    while pos != -1:\n",
    "        pos = string.find(word, pos)\n",
    "        if pos != -1:\n",
    "            count += 1\n",
    "            pos += 1\n",
    "    return count"
   ]
  },
  {
   "cell_type": "code",
   "execution_count": null,
   "metadata": {},
   "outputs": [
    {
     "name": "stdout",
     "output_type": "stream",
     "text": [
      "406\n",
      "410\n"
     ]
    }
   ],
   "source": [
    "# Example usage\n",
    "file_path = 'puzzle.txt'\n",
    "df = create_word_search_df(file_path)\n",
    "\n",
    "# Search for words\n",
    "row_major_count = count_row_major(df, forwards_token) + count_row_major(df, backwards_token)\n",
    "column_major_count = count_column_major(df, forwards_token) + count_column_major(df, backwards_token)\n",
    "print(row_major_count)\n",
    "print(column_major_count)\n"
   ]
  },
  {
   "cell_type": "code",
   "execution_count": 23,
   "metadata": {},
   "outputs": [
    {
     "name": "stdout",
     "output_type": "stream",
     "text": [
      "140 140\n",
      "140 140\n",
      "790\n"
     ]
    }
   ],
   "source": [
    "def count_diagonals(df: pd.DataFrame, word):\n",
    "    row_count = df.shape[0]\n",
    "    col_count = df.shape[1]\n",
    "    total_count = 0\n",
    "    print(row_count, col_count)\n",
    "\n",
    "    # Start at 0,0 and search all columns \n",
    "    for start_row in range(row_count):\n",
    "        diagonal_string = \"\"\n",
    "        row = start_row\n",
    "        col = 0\n",
    "        # Construct the diagonal string starting from (start_row, 0)\n",
    "        while row < row_count and col < col_count:\n",
    "            diagonal_string += df.iloc[row, col]\n",
    "            row += 1\n",
    "            col += 1\n",
    "        # Count occurrences of the word and its reverse in the diagonal string\n",
    "        total_count += count_occurrences(diagonal_string, word)\n",
    "\n",
    "    # Start at 0,0 and search all rows\n",
    "    for start_col in range(1, col_count):\n",
    "        diagonal_string = \"\"\n",
    "        row = 0\n",
    "        col = start_col\n",
    "        # Construct the diagonal string starting from (0, start_col)\n",
    "        while row < row_count and col < col_count:\n",
    "            diagonal_string += df.iloc[row, col]\n",
    "            row += 1\n",
    "            col += 1\n",
    "        # Count occurrences of the word and its reverse in the diagonal string\n",
    "        total_count += count_occurrences(diagonal_string, word)\n",
    "\n",
    "     # Loop through each starting point in the last column\n",
    "    for start_row in range(row_count):\n",
    "        diagonal_string = \"\"\n",
    "        row = start_row\n",
    "        col = col_count - 1\n",
    "        while row < row_count and col >= 0:\n",
    "            diagonal_string += df.iloc[row, col]\n",
    "            row += 1\n",
    "            col -= 1\n",
    "        total_count += count_occurrences(diagonal_string, word)\n",
    "    \n",
    "    # Loop through each starting point in the first row (excluding the last element)\n",
    "    for start_col in range(col_count - 2, -1, -1):\n",
    "        diagonal_string = \"\"\n",
    "        row = 0\n",
    "        col = start_col\n",
    "        while row < row_count and col >= 0:\n",
    "            diagonal_string += df.iloc[row, col]\n",
    "            row += 1\n",
    "            col -= 1\n",
    "        total_count += count_occurrences(diagonal_string, word)\n",
    "\n",
    "    return total_count\n",
    "\n",
    "    \n",
    "        \n",
    "diagonal_count_forwards = count_diagonals(df, forwards_token)\n",
    "diagonal_count_backwards = count_diagonals(df, backwards_token)\n",
    "print(diagonal_count_forwards)\n"
   ]
  },
  {
   "cell_type": "code",
   "execution_count": 24,
   "metadata": {},
   "outputs": [
    {
     "name": "stdout",
     "output_type": "stream",
     "text": [
      "140 140\n",
      "140 140\n",
      "2454\n"
     ]
    }
   ],
   "source": [
    "row_major_count = count_row_major(df, forwards_token) + count_row_major(df, backwards_token)\n",
    "column_major_count = count_column_major(df, forwards_token) + count_column_major(df, backwards_token)\n",
    "diagonal_count_forwards = count_diagonals(df, forwards_token)\n",
    "diagonal_count_backwards = count_diagonals(df, backwards_token)\n",
    "print(row_major_count+column_major_count+diagonal_count_backwards+diagonal_count_forwards)"
   ]
  }
 ],
 "metadata": {
  "kernelspec": {
   "display_name": "Python 3",
   "language": "python",
   "name": "python3"
  },
  "language_info": {
   "codemirror_mode": {
    "name": "ipython",
    "version": 3
   },
   "file_extension": ".py",
   "mimetype": "text/x-python",
   "name": "python",
   "nbconvert_exporter": "python",
   "pygments_lexer": "ipython3",
   "version": "3.9.6"
  }
 },
 "nbformat": 4,
 "nbformat_minor": 2
}
