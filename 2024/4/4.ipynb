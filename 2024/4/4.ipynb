{
 "cells": [
  {
   "cell_type": "code",
   "execution_count": 6,
   "metadata": {},
   "outputs": [],
   "source": [
    "import pandas as pd"
   ]
  },
  {
   "cell_type": "code",
   "execution_count": 11,
   "metadata": {},
   "outputs": [],
   "source": [
    "\n",
    "# Function to read characters from a file and create a DataFrame\n",
    "def create_word_search_df(file_path):\n",
    "    with open(file_path, 'r') as file:\n",
    "        lines = [line.strip() for line in file.readlines()]\n",
    "    \n",
    "    # Create a DataFrame from the list of lines\n",
    "    df = pd.DataFrame([list(line) for line in lines])\n",
    "    return df\n",
    "\n",
    "# Function to count occurrences of a word in row-major order\n",
    "def count_row_major(df, word):\n",
    "    count = 0\n",
    "    for index, row in df.iterrows():\n",
    "        row_string = ''.join(row)\n",
    "        count += row_string.count(word)\n",
    "    return count\n",
    "\n",
    "# Function to count occurrences of a word in column-major order\n",
    "def count_column_major(df, word):\n",
    "    count = 0\n",
    "    for col in df.columns:\n",
    "        col_string = ''.join(df[col])\n",
    "        count += col_string.count(word)\n",
    "    return count"
   ]
  },
  {
   "cell_type": "code",
   "execution_count": 14,
   "metadata": {},
   "outputs": [
    {
     "name": "stdout",
     "output_type": "stream",
     "text": [
      "406\n",
      "410\n"
     ]
    }
   ],
   "source": [
    "# Example usage\n",
    "file_path = 'puzzle.txt'\n",
    "df = create_word_search_df(file_path)\n",
    "\n",
    "# Search for words\n",
    "forwards_token = 'XMAS'\n",
    "backwards_token = 'SAMX'\n",
    "row_major_count = count_row_major(df, forwards_token) + count_row_major(df, backwards_token)\n",
    "column_major_count = count_column_major(df, forwards_token) + count_column_major(df, backwards_token)\n",
    "print(row_major_count)\n",
    "print(column_major_count)\n"
   ]
  },
  {
   "cell_type": "code",
   "execution_count": null,
   "metadata": {},
   "outputs": [],
   "source": [
    "def count_diagonals(df: pd.DataFrame, word):\n",
    "    word_length = len(word)\n",
    "    rows = len(df)\n",
    "    cols = len(df[0])"
   ]
  }
 ],
 "metadata": {
  "kernelspec": {
   "display_name": "Python 3",
   "language": "python",
   "name": "python3"
  },
  "language_info": {
   "codemirror_mode": {
    "name": "ipython",
    "version": 3
   },
   "file_extension": ".py",
   "mimetype": "text/x-python",
   "name": "python",
   "nbconvert_exporter": "python",
   "pygments_lexer": "ipython3",
   "version": "3.9.6"
  }
 },
 "nbformat": 4,
 "nbformat_minor": 2
}
